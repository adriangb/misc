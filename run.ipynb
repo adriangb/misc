{
 "cells": [
  {
   "cell_type": "code",
   "execution_count": 1,
   "metadata": {},
   "outputs": [],
   "source": [
    "%load_ext memory_profiler"
   ]
  },
  {
   "cell_type": "code",
   "execution_count": 2,
   "metadata": {},
   "outputs": [],
   "source": [
    "import gc\n",
    "from weakref import WeakValueDictionary\n",
    "\n",
    "from demo import WithoutGc, WithTraverse, WithTraverseAndClear\n",
    "\n",
    "\n",
    "class Foo:\n",
    "    def __init__(self, wrapper):\n",
    "        self.wrapped = wrapper(self)\n",
    "\n",
    "\n",
    "def run(wrapper) -> int:\n",
    "    cache = WeakValueDictionary()\n",
    "\n",
    "    for _ in range(100_000):\n",
    "        f = Foo(wrapper)\n",
    "        cache[id(f)] = f\n",
    "        del f\n",
    "\n",
    "    gc.collect(0)\n",
    "    gc.collect(1)\n",
    "    gc.collect(2)\n",
    "\n",
    "    return len(cache)"
   ]
  },
  {
   "cell_type": "code",
   "execution_count": 3,
   "metadata": {},
   "outputs": [
    {
     "name": "stdout",
     "output_type": "stream",
     "text": [
      "WithoutGc: 100000\n",
      "WithTraverse: 0\n",
      "WithTraverseAndClear: 0\n"
     ]
    }
   ],
   "source": [
    "print(f\"WithoutGc: {run(WithoutGc)}\")\n",
    "print(f\"WithTraverse: {run(WithTraverse)}\")\n",
    "print(f\"WithTraverseAndClear: {run(WithTraverseAndClear)}\")\n"
   ]
  },
  {
   "cell_type": "code",
   "execution_count": 4,
   "metadata": {},
   "outputs": [
    {
     "name": "stdout",
     "output_type": "stream",
     "text": [
      "peak memory: 134.23 MiB, increment: 26.30 MiB\n",
      "peak memory: 134.25 MiB, increment: 0.00 MiB\n",
      "peak memory: 134.25 MiB, increment: 0.00 MiB\n"
     ]
    }
   ],
   "source": [
    "%memit run(WithoutGc)\n",
    "%memit run(WithTraverse)\n",
    "%memit run(WithTraverseAndClear)"
   ]
  },
  {
   "cell_type": "markdown",
   "metadata": {},
   "source": []
  }
 ],
 "metadata": {
  "kernelspec": {
   "display_name": ".venvcpython",
   "language": "python",
   "name": "python3"
  },
  "language_info": {
   "codemirror_mode": {
    "name": "ipython",
    "version": 3
   },
   "file_extension": ".py",
   "mimetype": "text/x-python",
   "name": "python",
   "nbconvert_exporter": "python",
   "pygments_lexer": "ipython3",
   "version": "3.10.9"
  },
  "orig_nbformat": 4,
  "vscode": {
   "interpreter": {
    "hash": "783c60bb57d9edda8ca0a1aa49b7929fd6b4ed0c5ee51e627a034d02c9a52bc8"
   }
  }
 },
 "nbformat": 4,
 "nbformat_minor": 2
}
